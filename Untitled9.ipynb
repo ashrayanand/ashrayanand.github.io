{
 "cells": [
  {
   "cell_type": "code",
   "execution_count": 2,
   "metadata": {},
   "outputs": [],
   "source": [
    "import pandas as pd\n",
    "import numpy as np\n",
    "import matplotlib.pyplot as plt\n",
    "import seaborn as sns\n",
    "import plotly.graph_objects as go\n",
    "import plotly.express as px\n",
    "import collections\n",
    "import os\n",
    "import sys\n",
    "import datetime\n",
    "from sklearn.pipeline import Pipeline\n",
    "from sklearn.preprocessing import StandardScaler\n",
    "from sklearn.impute import SimpleImputer\n",
    "from sklearn.preprocessing import OneHotEncoder\n",
    "from sklearn.compose import ColumnTransformer\n",
    "from sklearn.linear_model import LinearRegression\n",
    "from sklearn.metrics import mean_squared_error,r2_score\n",
    "from sklearn import metrics\n",
    "from sklearn.impute import SimpleImputer\n",
    "from sklearn.compose import ColumnTransformer\n",
    "%matplotlib inline\n",
    "sns.set(color_codes=True)\n",
    "pd.set_option(\"display.max_rows\", None, \"display.max_columns\", None)\n",
    "np.set_printoptions(threshold=sys.maxsize)"
   ]
  },
  {
   "cell_type": "code",
   "execution_count": 29,
   "metadata": {},
   "outputs": [],
   "source": [
    "def reg_Matrix(file):\n",
    "    cmie=pd.read_csv(file)\n",
    "    #print('cmie before: ', cmie.shape)\n",
    "    cmie=cmie.dropna()\n",
    "    #print('cmie after: ', cmie.shape)\n",
    "    cmie['sa_finance1_year'] = pd.to_datetime(cmie.sa_finance1_year)\n",
    "    cmie['sa_finance1_year'] = cmie['sa_finance1_year'].dt.strftime('%d-%m-%Y')\n",
    "    \n",
    "    cmie['productivity'] = cmie['sa_sales']/cmie['sa_total_assets']\n",
    "    cmie['asset_utilization'] = cmie['sa_total_income']/cmie['sa_salaries'] \n",
    "    cmie['net_profit_margin'] = cmie['sa_pat']/cmie['sa_total_income']\n",
    "    cmie['operating_profit'] = cmie['sa_pbdita']/cmie['sa_sales']\n",
    "    cmie['profitability'] = cmie['sa_pbdita']/cmie['sa_total_income']\n",
    "    cmie['return_on_investment'] = cmie['sa_pbdita']/cmie['sa_total_assets']\n",
    "    \n",
    "    #cmie.notnull().values.all()\n",
    "    #print('before',cmie.shape)\n",
    "    cmie=cmie[~cmie.isin([np.nan, np.inf, -np.inf]).any(1)]\n",
    "    #print('after',cmie.shape)\n",
    "    \n",
    "    start_date='31-03-2017'\n",
    "    mask2 = (cmie['sa_finance1_year'] > start_date) \n",
    "    D_test=cmie[mask2]\n",
    "    mask3=(cmie['sa_finance1_year'] <= start_date)\n",
    "    D_train=cmie[mask3]\n",
    "    \n",
    "    y_train=D_train['sa_debt_equity'].copy()\n",
    "    X_train=D_train.drop('sa_debt_equity',axis=1)\n",
    "    y_test=D_test['sa_debt_equity'].copy()\n",
    "    X_test=D_test.drop('sa_debt_equity',axis=1)\n",
    "    X_train=X_train.replace(np.nan, 0)\n",
    "    \n",
    "    num_attributes=['productivity','asset_utilization','net_profit_margin','operating_profit','profitability','return_on_investment','lag_1']\n",
    "    cat_df=['mr_entity_type_name','regdstate']\n",
    "    \n",
    "    X_temp=X_train[num_attributes]\n",
    "    corr_matrix=X_temp.corr()\n",
    "    correlated_features = set()\n",
    "    for i in range(len(corr_matrix .columns)):\n",
    "        for j in range(i):\n",
    "            if abs(corr_matrix.iloc[i, j]) > 0.9:\n",
    "                colname = corr_matrix.columns[i]\n",
    "                correlated_features.add(colname)\n",
    "    \n",
    "    for each in num_attributes:\n",
    "        if each in correlated_features:\n",
    "            num_attributes.remove(each)\n",
    "    #print('correlated_features: ',correlated_features)        \n",
    "    \n",
    "    num_pipeline = Pipeline([('std_scaler', StandardScaler()),])\n",
    "    cat_pipeline=Pipeline([(\"one_hot_enc\",OneHotEncoder()),])\n",
    "    \n",
    "    full_pipeline=ColumnTransformer([\n",
    "    (\"num\",num_pipeline,num_attributes),(\"cat\",cat_pipeline,cat_df)])\n",
    "    \n",
    "    X_train_transformed=full_pipeline.fit_transform(X_train)\n",
    "    \n",
    "    lin_reg = LinearRegression()\n",
    "    lin_reg.fit(X_train_transformed, y_train)\n",
    "    \n",
    "    X_test_transformed=full_pipeline.transform(X_test)\n",
    "    y_pred=lin_reg.predict(X_test_transformed)\n",
    "    result_df=pd.DataFrame({'Actual': y_test, 'Predicted': y_pred})\n",
    "    return result_df"
   ]
  },
  {
   "cell_type": "code",
   "execution_count": 30,
   "metadata": {},
   "outputs": [],
   "source": [
    "def cal_r2_rmse(file):\n",
    "    #file=\"Other_fund_based_financial_services_imp__{}.csv\"\n",
    "    #print (file.format(1))\n",
    "    res_df=reg_Matrix(file.format(1))\n",
    "    for i in range(4):\n",
    "        #print (file.format(i+2))\n",
    "        res_df_1=reg_Matrix(file.format(i+2))\n",
    "        res_df=res_df.add(res_df_1, fill_value=0)\n",
    "\n",
    "    res_df=res_df.div(5)\n",
    "    r2=r2_score(res_df['Actual'],res_df['Predicted'])\n",
    "    rmse=np.sqrt(metrics.mean_squared_error(res_df['Actual'], res_df['Predicted']))\n",
    "    print(file.strip('_imp_{}.csv'))\n",
    "    print(\"R2: \",r2)\n",
    "    print(\"RMSE: \",rmse)"
   ]
  },
  {
   "cell_type": "code",
   "execution_count": 31,
   "metadata": {},
   "outputs": [
    {
     "name": "stdout",
     "output_type": "stream",
     "text": [
      "Other_fund_based_financial_service\n",
      "R2:  0.9507923063720014\n",
      "RMSE:  448.8063451601501\n"
     ]
    }
   ],
   "source": [
    "cal_r2_rmse(\"Other_fund_based_financial_services_imp__{}.csv\")"
   ]
  },
  {
   "cell_type": "code",
   "execution_count": 32,
   "metadata": {},
   "outputs": [
    {
     "name": "stdout",
     "output_type": "stream",
     "text": [
      "Other_construction&allied_activitie\n",
      "R2:  0.4512335005248014\n",
      "RMSE:  146.91713620229592\n"
     ]
    }
   ],
   "source": [
    "cal_r2_rmse(\"Other_construction&allied_activities_imp_{}.csv\")"
   ]
  },
  {
   "cell_type": "code",
   "execution_count": 33,
   "metadata": {},
   "outputs": [
    {
     "name": "stdout",
     "output_type": "stream",
     "text": [
      "Business_services_&_consultancy\n",
      "R2:  0.04145438308302385\n",
      "RMSE:  202.16988224550164\n"
     ]
    }
   ],
   "source": [
    "cal_r2_rmse(\"Business_services_&_consultancy_imp_{}.csv\")"
   ]
  },
  {
   "cell_type": "code",
   "execution_count": 34,
   "metadata": {},
   "outputs": [
    {
     "name": "stdout",
     "output_type": "stream",
     "text": [
      "Wholesale_trading\n",
      "R2:  0.05602336172065214\n",
      "RMSE:  33.06303413850629\n"
     ]
    }
   ],
   "source": [
    "cal_r2_rmse(\"Wholesale_trading_imp_{}.csv\")"
   ]
  },
  {
   "cell_type": "code",
   "execution_count": 35,
   "metadata": {},
   "outputs": [
    {
     "name": "stdout",
     "output_type": "stream",
     "text": [
      "Mineral\n",
      "R2:  0.021026210408103707\n",
      "RMSE:  142.09160008287515\n"
     ]
    }
   ],
   "source": [
    "cal_r2_rmse(\"Minerals_imp_{}.csv\")"
   ]
  },
  {
   "cell_type": "code",
   "execution_count": 36,
   "metadata": {},
   "outputs": [
    {
     "name": "stdout",
     "output_type": "stream",
     "text": [
      "Commercial_complexe\n",
      "R2:  -1.3031059047599238\n",
      "RMSE:  37.77284825705964\n"
     ]
    }
   ],
   "source": [
    "cal_r2_rmse(\"Commercial_complexes_imp_{}.csv\")"
   ]
  },
  {
   "cell_type": "code",
   "execution_count": 37,
   "metadata": {},
   "outputs": [
    {
     "name": "stdout",
     "output_type": "stream",
     "text": [
      "Computer_software\n",
      "R2:  0.009040587991387294\n",
      "RMSE:  21.381344860614163\n"
     ]
    }
   ],
   "source": [
    "cal_r2_rmse(\"Computer_software_imp_{}.csv\")"
   ]
  },
  {
   "cell_type": "code",
   "execution_count": null,
   "metadata": {},
   "outputs": [],
   "source": []
  }
 ],
 "metadata": {
  "kernelspec": {
   "display_name": "Python 3",
   "language": "python",
   "name": "python3"
  },
  "language_info": {
   "codemirror_mode": {
    "name": "ipython",
    "version": 3
   },
   "file_extension": ".py",
   "mimetype": "text/x-python",
   "name": "python",
   "nbconvert_exporter": "python",
   "pygments_lexer": "ipython3",
   "version": "3.7.6"
  }
 },
 "nbformat": 4,
 "nbformat_minor": 4
}
